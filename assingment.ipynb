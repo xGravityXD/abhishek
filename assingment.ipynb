{
 "cells": [
  {
   "cell_type": "code",
   "execution_count": 13,
   "id": "802d83bd",
   "metadata": {},
   "outputs": [
    {
     "name": "stdout",
     "output_type": "stream",
     "text": [
      "mean :23.514572864321607\n",
      "median = 23.0\n",
      "standard deviation = 7.815984312565782\n"
     ]
    }
   ],
   "source": [
    "# Convert the mpg column into a NumPy array and calculate: \n",
    "# ○ The mean, median, and standard deviation of mpg. \n",
    "# ○ The number of cars with mpg greater than 25. \n",
    "\n",
    "import numpy as np\n",
    "import pandas as pd\n",
    "\n",
    "data = pd.read_csv(\"auto-mpg.csv\")\n",
    "data_mpg = data['mpg'].to_numpy()\n",
    "\n",
    "# mean of mpg \n",
    "\n",
    "my_mean = data_mpg.mean()\n",
    "print(f\"mean :{my_mean}\")\n",
    "\n",
    "# median of mpg\n",
    "\n",
    "sorted_data = sorted(data_mpg)\n",
    "length = len(sorted_data)\n",
    "mid = length // 2\n",
    "\n",
    "if length % 2 == 0:\n",
    "    median = (sorted_data[mid - 1]+ sorted_data[mid]) / 2\n",
    "else:\n",
    "    median = sorted_data[int(mid)]\n",
    "print(f\"median = {median}\")\n",
    "\n",
    "\n",
    "# finding the standard deviation\n",
    "\n",
    "mean = np.mean(data_mpg) #finding the mean\n",
    "sq_dev = (data_mpg - mean) ** 2\n",
    "variance = np.sum(sq_dev) / (len(data_mpg) - 1)\n",
    "standard_dev = np.sqrt(variance)\n",
    "print(f\"standard deviation = {standard_dev}\")"
   ]
  },
  {
   "cell_type": "code",
   "execution_count": null,
   "id": "f8a9294e",
   "metadata": {},
   "outputs": [
    {
     "name": "stdout",
     "output_type": "stream",
     "text": [
      "['chevrolet chevelle malibu', 'buick skylark 320', 'plymouth satellite', 'amc rebel sst', 'ford torino', 'ford galaxie 500', 'chevrolet impala', 'plymouth fury iii', 'pontiac catalina', 'amc ambassador dpl', 'dodge challenger se', \"plymouth 'cuda 340\", 'chevrolet monte carlo', 'buick estate wagon (sw)', 'ford f250', 'chevy c20', 'dodge d200', 'hi 1200d', 'chevrolet impala', 'pontiac catalina brougham', 'ford galaxie 500', 'plymouth fury iii', 'dodge monaco (sw)', 'ford country squire (sw)', 'pontiac safari (sw)', 'chevrolet impala', 'pontiac catalina', 'plymouth fury iii', 'ford galaxie 500', 'amc ambassador sst', 'mercury marquis', 'buick lesabre custom', 'oldsmobile delta 88 royale', 'chrysler newport royal', 'amc matador (sw)', 'chevrolet chevelle concours (sw)', 'ford gran torino (sw)', 'plymouth satellite custom (sw)', 'buick century 350', 'amc matador', 'chevrolet malibu', 'ford gran torino', 'dodge coronet custom', 'mercury marquis brougham', 'chevrolet caprice classic', 'ford ltd', 'plymouth fury gran sedan', 'chrysler new yorker brougham', 'buick electra 225 custom', 'amc ambassador brougham', 'chevrolet impala', 'ford country', 'plymouth custom suburb', 'oldsmobile vista cruiser', 'chevrolet monte carlo s', 'pontiac grand prix', 'dodge dart custom', 'oldsmobile omega', 'ford gran torino', 'buick century luxus (sw)', 'dodge coronet custom (sw)', 'ford gran torino (sw)', 'amc matador (sw)', 'pontiac catalina', 'chevrolet bel air', 'plymouth grand fury', 'ford ltd', 'chevrolet monza 2+2', 'ford mustang ii', 'chevrolet chevelle malibu classic', 'dodge coronet brougham', 'amc matador', 'ford gran torino', 'plymouth volare premier v8', 'cadillac seville', 'chevy c10', 'ford f108', 'dodge d100', 'chevrolet caprice classic', 'oldsmobile cutlass supreme', 'dodge monaco brougham', 'mercury cougar brougham', 'pontiac grand prix lj', 'chevrolet monte carlo landau', 'chrysler cordoba', 'ford thunderbird', 'oldsmobile cutlass salon brougham', 'dodge diplomat', 'mercury monarch ghia', 'chevrolet monte carlo landau', 'ford futura', 'dodge magnum xe', 'chevrolet caprice classic', 'ford ltd landau', 'mercury grand marquis', 'dodge st. regis', 'buick estate wagon (sw)', 'ford country squire (sw)', 'chevrolet malibu classic (sw)', 'chrysler lebaron town @ country (sw)', 'cadillac eldorado', 'oldsmobile cutlass salon brougham', 'oldsmobile cutlass ls']\n"
     ]
    }
   ],
   "source": [
    "# Using NumPy, filter all cars with more than 6 cylinders. \n",
    "# Return the corresponding car_name as a list\n",
    "\n",
    "car_name = data[data['cylinders'] > 6]['car name'].tolist()\n",
    "print(car_name)\n",
    "\n"
   ]
  },
  {
   "cell_type": "code",
   "execution_count": 26,
   "id": "32d6bb80",
   "metadata": {},
   "outputs": [
    {
     "data": {
      "text/plain": [
       "np.float64(3608.0)"
      ]
     },
     "execution_count": 26,
     "metadata": {},
     "output_type": "execute_result"
    }
   ],
   "source": [
    "# Compute the 25th, 50th, and 75th percentiles of the weight column using NumPy. \n",
    "\n",
    "weight = data['weight']\n",
    "def percentile(x, p):\n",
    "    return np.percentile(x, p)\n",
    "\n",
    "percentile(weight, 25) #25 percentile\n",
    "percentile(weight, 50) #50 percentile\n",
    "percentile(weight, 75) #75 percentile"
   ]
  },
  {
   "cell_type": "code",
   "execution_count": 25,
   "id": "4b510e94",
   "metadata": {},
   "outputs": [
    {
     "name": "stdout",
     "output_type": "stream",
     "text": [
      "normalized values = [0.23809524 0.20833333 0.17857143 0.23809524 0.14880952 0.11904762\n",
      " 0.05952381 0.0297619  0.11904762 0.0297619  0.11904762 0.\n",
      " 0.08928571 0.11904762 0.41666667 0.44642857 0.44642857 0.47619048\n",
      " 0.38690476 0.74404762 0.56547619 0.38690476 0.56547619 0.26785714\n",
      " 0.41666667 0.35714286 0.41666667 0.32738095 0.625      0.38690476\n",
      " 0.44642857 0.35714286 0.6547619  0.29761905 0.44642857 0.44642857\n",
      " 0.44642857 0.44642857 0.23809524 0.20833333 0.32738095 0.29761905\n",
      " 0.20833333 0.23809524 0.23809524 0.32738095 0.6547619  0.41666667\n",
      " 0.38690476 0.35714286 0.35714286 0.68452381 0.38690476 0.6547619\n",
      " 0.5952381  0.6547619  0.74404762 0.44642857 0.53571429 0.92261905\n",
      " 0.68452381 0.50595238 0.23809524 0.23809524 0.32738095 0.29761905\n",
      " 0.20833333 0.17857143 0.32738095 0.32738095 0.26785714 0.32738095\n",
      " 0.26785714 0.35714286 0.47619048 0.35714286 0.38690476 0.5952381\n",
      " 0.68452381 0.5952381  0.47619048 0.53571429 0.38690476 0.41666667\n",
      " 0.50595238 0.29761905 0.20833333 0.29761905 0.38690476 0.26785714\n",
      " 0.20833333 0.23809524 0.29761905 0.38690476 0.17857143 0.17857143\n",
      " 0.17857143 0.50595238 0.5952381  0.47619048 0.50595238 0.47619048\n",
      " 0.77380952 0.35714286 0.26785714 0.29761905 0.26785714 0.41666667\n",
      " 0.6547619  0.68452381 0.50595238 0.32738095 0.625      0.35714286\n",
      " 0.44642857 0.29761905 0.08928571 0.68452381 0.44642857 0.35714286\n",
      " 0.44642857 0.17857143 0.35714286 0.32738095 0.17857143 0.50595238\n",
      " 0.53571429 0.47619048 0.53571429 0.6547619  0.50595238 0.77380952\n",
      " 0.53571429 0.53571429 0.5952381  0.50595238 0.35714286 0.38690476\n",
      " 0.32738095 0.47619048 0.44642857 0.50595238 0.44642857 0.38690476\n",
      " 0.50595238 0.6547619  0.38690476 0.44642857 0.35714286 0.41666667\n",
      " 0.44642857 0.47619048 0.47619048 0.47619048 0.77380952 0.68452381\n",
      " 0.20833333 0.35714286 0.38690476 0.32738095 0.77380952 0.625\n",
      " 0.6547619  0.6547619  0.41666667 0.32738095 0.23809524 0.47619048\n",
      " 0.53571429 0.47619048 0.625      0.32738095 0.50595238 0.53571429\n",
      " 0.38690476 0.35714286 0.53571429 0.41666667 0.53571429 0.38690476\n",
      " 0.32738095 0.56547619 0.44642857 0.5297619  0.41071429 0.57738095\n",
      " 0.43452381 0.29761905 0.29761905 0.35119048 0.28571429 0.44047619\n",
      " 0.38690476 0.57142857 0.57142857 0.8452381  0.83928571 0.36904762\n",
      " 0.55952381 0.57738095 0.77380952 0.48809524 0.58333333 0.25\n",
      " 0.53571429 0.5        0.33333333 0.45833333 0.30952381 0.82738095\n",
      " 0.44642857 0.51785714 0.24404762 0.23809524 0.41666667 0.35714286\n",
      " 0.625      0.4047619  0.63095238 0.44642857 0.52380952 0.26785714\n",
      " 0.6547619  0.33928571 0.41071429 0.5        0.5297619  0.57738095\n",
      " 0.6547619  0.18452381 0.20238095 0.25       0.38690476 0.38690476\n",
      " 0.47619048 0.60714286 0.46428571 0.53571429 0.4702381  0.5\n",
      " 0.36309524 0.38690476 0.28571429 0.32738095 0.80357143 0.38095238\n",
      " 0.67857143 0.63095238 0.5        0.44642857 0.30952381 0.28571429\n",
      " 0.66666667 0.60714286 0.46428571 0.44047619 0.54761905 0.54761905\n",
      " 0.46428571 0.51785714 0.63690476 0.42261905 0.30952381 0.32142857\n",
      " 0.19047619 0.33928571 0.50595238 0.36904762 0.39880952 0.38690476\n",
      " 0.4047619  0.51785714 0.57142857 0.41071429 0.4702381  0.33333333\n",
      " 0.45833333 0.46428571 0.41071429 0.51190476 0.44047619 0.60714286\n",
      " 0.55357143 0.60714286 0.51190476 0.44047619 0.32142857 0.30952381\n",
      " 0.42857143 0.41071429 0.375      0.41666667 0.29761905 0.35714286\n",
      " 0.42857143 0.38095238 0.41666667 0.7202381  0.55952381 1.\n",
      " 0.8452381  0.30952381 0.41071429 0.66666667 0.39880952 0.47619048\n",
      " 0.19642857 0.29166667 0.30952381 0.39880952 0.64285714 0.44642857\n",
      " 0.5        0.50595238 0.60119048 0.7202381  0.63690476 0.46428571\n",
      " 0.44642857 0.56547619 0.41666667 0.42857143 0.58928571 0.38095238\n",
      " 0.66666667 0.81547619 0.93452381 0.70833333 0.82142857 0.3452381\n",
      " 0.55357143 0.5952381  0.43452381 0.20238095 0.26785714 0.42261905\n",
      " 0.375      0.53571429 0.45833333 0.5        0.38095238 0.27380952\n",
      " 0.29166667 0.5297619  0.5        0.48214286 0.58333333 0.67857143\n",
      " 0.55357143 0.47619048 0.41071429 0.48809524 0.75595238 0.36904762\n",
      " 0.46428571 0.38095238 0.52380952 0.4047619  0.61309524 0.73809524\n",
      " 0.69047619 0.27380952 0.3452381  0.46428571 0.6547619  0.54166667\n",
      " 0.51190476 0.69047619 0.63095238 0.5952381  0.48809524 0.47619048\n",
      " 0.5952381  0.5        0.74404762 0.43452381 0.60714286 0.57142857\n",
      " 0.39880952 0.55357143 0.38690476 0.38690476 0.5297619  0.41666667\n",
      " 0.45833333 0.48809524 0.5        0.53571429 0.38690476 0.39880952\n",
      " 0.35119048 0.29761905 0.55357143 0.45238095 0.98809524 0.21428571\n",
      " 0.63095238 0.67857143]\n"
     ]
    }
   ],
   "source": [
    "# Convert the acceleration column into a NumPy array and normalize its values \n",
    "# (scale between 0 and 1). \n",
    "\n",
    "acceleration = data['acceleration'].to_numpy()\n",
    "acc_norm = (acceleration - acceleration.min()) / (acceleration.max() - acceleration.min())\n",
    "print(f\"normalized values = {acc_norm}\")"
   ]
  },
  {
   "cell_type": "code",
   "execution_count": 31,
   "id": "0f2e6ce8",
   "metadata": {},
   "outputs": [
    {
     "name": "stdout",
     "output_type": "stream",
     "text": [
      "[143.         181.5        165.         165.         154.\n",
      " 217.8        242.         236.5        247.5        209.\n",
      " 187.         176.         165.         247.5        104.5\n",
      " 104.5        106.7         93.5         96.8         50.6\n",
      "  95.7         99.         104.5        124.3         99.\n",
      " 236.5        220.         231.         212.3         96.8\n",
      "  99.         104.5        114.91632653 110.         115.5\n",
      " 110.          96.8        110.         181.5        192.5\n",
      " 168.3        165.         198.         187.         192.5\n",
      " 121.          79.2        110.          96.8         94.6\n",
      "  99.          77.          83.6         71.5         75.9\n",
      "  66.          77.         104.5         88.          59.4\n",
      "  99.          94.6        181.5        192.5        165.\n",
      " 168.3        165.         228.8        170.5        176.\n",
      " 209.         106.7        165.         143.         154.\n",
      " 165.         123.2         83.6         95.7         75.9\n",
      "  94.6        101.2        106.7         88.          96.8\n",
      " 192.5        165.         159.5        150.7        165.\n",
      " 217.8        165.         173.8        165.         236.5\n",
      " 247.5        192.5        115.5        110.         110.\n",
      "  96.8        104.5         50.6        165.         183.7\n",
      " 187.         198.         110.          96.8         79.2\n",
      " 103.4         99.          93.5        117.7         99.\n",
      " 159.5        253.          53.9         82.5        100.1\n",
      " 123.2        165.         121.         134.2        198.\n",
      " 104.5        114.91632653 110.         110.          73.7\n",
      "  88.          71.5         82.5        110.         121.\n",
      " 115.5        154.         165.         165.         154.\n",
      " 165.          91.3         73.7         85.8         57.2\n",
      "  67.1         82.5         82.5         82.5        106.7\n",
      " 102.3         73.7        104.5        115.5         79.2\n",
      "  79.2        187.         159.5        165.         162.8\n",
      " 121.         115.5        121.         104.5        121.\n",
      " 121.         141.9         82.5         91.3        110.\n",
      "  85.8        105.6         78.1        106.7        106.7\n",
      "  77.          99.         104.5         96.8        107.8\n",
      " 126.5         58.3         94.6         89.1        101.2\n",
      "  86.9         91.3        154.         165.         132.\n",
      " 167.2        110.         115.5         89.1         99.\n",
      "  57.2         66.          77.          58.3        110.\n",
      "  85.8        121.         104.5         78.1         77.\n",
      "  82.5         79.2        112.2        165.          96.8\n",
      " 118.8        132.         198.         159.5        143.\n",
      " 165.          74.8         88.          63.8        105.6\n",
      "  77.         159.5        121.         159.5        143.\n",
      " 121.         115.5        110.         107.8        198.\n",
      " 187.         209.         163.9         85.8         96.8\n",
      "  82.5         97.9         69.3         91.3         73.7\n",
      "  85.8        106.7        121.         121.          52.8\n",
      "  72.6         57.2         77.          66.         121.\n",
      " 154.         152.9        115.5        104.5         93.5\n",
      "  96.8        110.          99.         115.5         93.5\n",
      " 121.         132.         159.5        181.5        152.9\n",
      " 154.          74.8        104.5        106.7         82.5\n",
      " 104.5        115.5         93.5        106.7        113.3\n",
      " 137.5        126.5        146.3         78.1         74.8\n",
      " 126.5         93.5         96.8         99.         121.\n",
      " 143.         141.9        151.8        148.5        170.5\n",
      " 156.2        137.5        165.          78.1         71.5\n",
      "  88.          88.          84.7        137.5         78.1\n",
      "  99.          77.          77.          71.5         75.9\n",
      "  99.         126.5        126.5         99.          83.6\n",
      "  66.          77.          71.5         99.          96.8\n",
      "  99.          99.          85.8         99.          82.5\n",
      " 101.2         82.5         71.5        115.5         71.5\n",
      "  52.8         52.8         73.7         73.7         73.7\n",
      " 114.91632653  73.7         68.2        145.2        110.\n",
      "  96.8        114.91632653  79.2         92.4         92.4\n",
      " 101.2        121.          92.4         63.8         70.4\n",
      "  66.          73.7         71.5         68.2         74.8\n",
      "  69.3         71.5         71.5         81.4        114.91632653\n",
      "  82.5         82.5        110.          81.4         88.\n",
      "  83.6        127.6        132.         121.         115.5\n",
      "  96.8         93.5         96.8         96.8         96.8\n",
      "  93.5         92.4         99.         101.2        114.91632653\n",
      "  81.4         74.8         74.8         69.3         77.\n",
      "  96.8         82.5         77.          73.7         73.7\n",
      "  73.7        121.          93.5        101.2        123.2\n",
      " 105.6         92.4         99.          94.6         57.2\n",
      "  92.4         86.9         90.2       ]\n"
     ]
    },
    {
     "name": "stderr",
     "output_type": "stream",
     "text": [
      "C:\\Users\\ASUS\\AppData\\Local\\Temp\\ipykernel_15096\\3344704397.py:8: FutureWarning: A value is trying to be set on a copy of a DataFrame or Series through chained assignment using an inplace method.\n",
      "The behavior will change in pandas 3.0. This inplace method will never work because the intermediate object on which we are setting values always behaves as a copy.\n",
      "\n",
      "For example, when doing 'df[col].method(value, inplace=True)', try using 'df.method({col: value}, inplace=True)' or df[col] = df[col].method(value) instead, to perform the operation inplace on the original object.\n",
      "\n",
      "\n",
      "  df['horsepower'].fillna(df['horsepower'].mean(), inplace=True)\n"
     ]
    }
   ],
   "source": [
    "# Broadcasting\n",
    "# Increase all horsepower values by 10% and store the updated values in a new\n",
    "# NumPy array. Handle missing data (if any) by replacing it with the mean of the\n",
    "# column before applying the increase.\n",
    "\n",
    "\n",
    "df['horsepower'] = pd.to_numeric(df['horsepower'],errors='coerce')\n",
    "df['horsepower'].fillna(df['horsepower'].mean(), inplace=True)\n",
    "\n",
    "update_hp = (df['horsepower'] * 1.1).to_numpy()\n",
    "print(update_hp)\n",
    "\n"
   ]
  },
  {
   "cell_type": "code",
   "execution_count": 38,
   "id": "47502756",
   "metadata": {},
   "outputs": [
    {
     "name": "stdout",
     "output_type": "stream",
     "text": [
      "Average displacement for European cars: 109.14285714285714\n"
     ]
    }
   ],
   "source": [
    "# Boolean Indexing\n",
    "# Find the average displacement of cars with an origin of 2 (Europe) using NumPy\n",
    "# # indexing.\n",
    "\n",
    "df = pd.read_csv(\"auto-mpg.csv\")\n",
    "\n",
    "origin = df['origin'].to_numpy()\n",
    "displacement = df['displacement'].to_numpy()\n",
    "\n",
    "avg_displacement = np.mean(displacement[origin == 2])\n",
    "print(\"Average displacement for European cars:\", avg_displacement)"
   ]
  },
  {
   "cell_type": "code",
   "execution_count": 41,
   "id": "8e1cb86b",
   "metadata": {},
   "outputs": [
    {
     "name": "stdout",
     "output_type": "stream",
     "text": [
      "Dot product result: [-617.8        -641.1        -594.2        -595.6        -602.8\n",
      " -754.2        -746.8        -740.9        -758.5        -660.\n",
      " -612.6        -627.8        -662.2        -490.7        -402.9\n",
      " -497.1        -488.3        -453.9        -355.         -318.\n",
      " -465.9        -417.         -402.5        -364.3        -463.6\n",
      " -805.5        -765.2        -760.4        -840.9        -355.\n",
      " -379.8        -373.1        -331.96530612 -457.8        -619.3\n",
      " -598.8        -597.4        -589.6        -745.3        -791.3\n",
      " -740.3        -730.2        -889.         -851.2        -927.5\n",
      " -519.4        -423.6        -587.4        -565.8        -378.\n",
      " -351.6        -349.8        -345.         -291.1        -253.1\n",
      " -309.8        -330.         -384.1        -360.2        -400.8\n",
      " -416.6        -381.2        -759.3        -775.5        -737.\n",
      " -735.3        -642.4        -811.6        -809.9        -799.2\n",
      " -776.4        -398.5        -688.4        -741.6        -775.8\n",
      " -726.4        -512.6        -442.2        -531.3        -377.3\n",
      " -414.         -383.6        -429.7        -364.8        -349.\n",
      " -719.5        -645.4        -712.1        -725.9        -665.4\n",
      " -879.4        -804.8        -780.6        -758.4        -826.5\n",
      " -865.7        -663.7        -553.7        -589.6        -521.\n",
      " -542.2        -510.3        -341.         -913.4        -885.7\n",
      " -832.8        -797.8        -489.8        -391.8        -423.2\n",
      " -406.8        -361.8        -400.5        -419.9        -382.\n",
      " -728.9        -724.6        -319.9        -370.1        -450.9\n",
      " -498.6        -589.8        -453.         -480.4        -631.8\n",
      " -552.9        -501.76530612 -511.2        -602.2        -325.5\n",
      " -424.2        -302.7        -445.9        -690.2        -655.4\n",
      " -652.1        -742.2        -851.8        -802.4        -843.6\n",
      " -762.4        -373.3        -333.1        -395.         -272.8\n",
      " -338.1        -359.5        -360.1        -385.7        -425.3\n",
      " -405.7        -335.5        -586.3        -621.3        -635.4\n",
      " -580.6        -832.6        -800.5        -808.6        -843.4\n",
      " -709.4        -710.9        -676.         -691.5        -531.8\n",
      " -569.2        -556.3        -367.7        -463.3        -512.8\n",
      " -456.4        -468.4        -384.1        -436.5        -530.3\n",
      " -323.4        -578.2        -468.3        -524.4        -518.\n",
      " -451.7        -299.5        -421.8        -378.5        -443.4\n",
      " -385.5        -371.9        -755.5        -747.         -716.9\n",
      " -752.5        -574.6        -596.1        -537.9        -549.5\n",
      " -352.         -378.3        -323.4        -299.5        -660.2\n",
      " -657.8        -655.5        -573.6        -300.         -331.\n",
      " -365.5        -450.5        -559.         -700.         -591.\n",
      " -513.         -687.5        -769.5        -725.5        -696.\n",
      " -663.         -343.5        -361.         -300.         -386.5\n",
      " -320.5        -686.         -740.         -740.         -779.\n",
      " -631.5        -612.         -657.         -637.5        -738.\n",
      " -732.5        -754.5        -776.5        -320.         -479.5\n",
      " -389.5        -481.         -348.2        -340.         -333.5\n",
      " -368.5        -492.5        -443.5        -467.5        -329.9\n",
      " -290.9        -338.2        -339.6        -293.9        -598.1\n",
      " -657.6        -624.3        -635.3        -563.         -530.3\n",
      " -474.9        -615.5        -577.6        -602.9        -550.7\n",
      " -650.4        -603.9        -593.3        -588.8        -553.4\n",
      " -728.5        -367.         -437.         -384.3        -377.6\n",
      " -434.4        -473.3        -504.7        -408.6        -494.2\n",
      " -548.5        -479.9        -599.3        -331.         -363.5\n",
      " -570.         -535.7        -511.7        -587.8        -596.4\n",
      " -686.         -662.9        -705.5        -680.3        -777.6\n",
      " -724.3        -639.3        -694.5        -317.6        -328.4\n",
      " -307.3        -466.6        -642.1        -694.5        -575.3\n",
      " -615.1        -370.8        -360.5        -339.7        -354.2\n",
      " -460.6        -432.7        -455.7        -432.7        -349.3\n",
      " -325.5        -356.9        -334.1        -462.6        -503.6\n",
      " -531.3        -612.1        -364.3        -467.4        -439.6\n",
      " -403.8        -383.3        -342.9        -479.6        -348.7\n",
      " -348.7        -399.6        -520.1        -586.5        -291.9\n",
      " -273.86530612 -361.7        -308.2        -483.3        -410.3\n",
      " -421.         -505.16530612 -389.6        -428.8        -458.4\n",
      " -452.2        -466.5        -405.         -282.9        -304.\n",
      " -286.9        -347.2        -325.5        -341.3        -328.9\n",
      " -376.8        -342.1        -413.6        -368.         -377.26530612\n",
      " -370.8        -400.1        -440.1        -458.4        -577.9\n",
      " -563.3        -496.6        -501.8        -605.6        -665.9\n",
      " -547.8        -632.9        -449.         -457.         -401.\n",
      " -441.5        -434.         -475.         -503.         -531.76530612\n",
      " -323.         -334.         -329.         -355.5        -354.\n",
      " -352.         -367.5        -380.         -321.5        -327.5\n",
      " -327.5        -509.         -522.5        -445.         -489.\n",
      " -453.         -396.         -518.         -488.         -356.\n",
      " -385.         -457.5        -472.        ]\n"
     ]
    },
    {
     "name": "stderr",
     "output_type": "stream",
     "text": [
      "C:\\Users\\ASUS\\AppData\\Local\\Temp\\ipykernel_15096\\2204642684.py:8: FutureWarning: A value is trying to be set on a copy of a DataFrame or Series through chained assignment using an inplace method.\n",
      "The behavior will change in pandas 3.0. This inplace method will never work because the intermediate object on which we are setting values always behaves as a copy.\n",
      "\n",
      "For example, when doing 'df[col].method(value, inplace=True)', try using 'df.method({col: value}, inplace=True)' or df[col] = df[col].method(value) instead, to perform the operation inplace on the original object.\n",
      "\n",
      "\n",
      "  df['horsepower'].fillna(df['horsepower'].mean(), inplace=True)\n"
     ]
    }
   ],
   "source": [
    "# Matrix Operations\n",
    "# Create a 2D NumPy array containing the columns mpg, horsepower, and weight.\n",
    "# Compute the dot product of this matrix with a given vector [1, 0.5, -0.2].\n",
    "\n",
    "\n",
    "df = pd.read_csv(\"auto-mpg.csv\")\n",
    "df['horsepower'] = pd.to_numeric(df['horsepower'], errors='coerce')\n",
    "df['horsepower'].fillna(df['horsepower'].mean(), inplace=True)\n",
    "\n",
    "matrix = df[['mpg', 'horsepower', 'weight']].to_numpy()\n",
    "vector = np.array([1, 0.5, -0.2])\n",
    "\n",
    "result = np.dot(matrix, vector)\n",
    "print(\"Dot product result:\", result)\n"
   ]
  },
  {
   "cell_type": "code",
   "execution_count": 46,
   "id": "bac66fd0",
   "metadata": {},
   "outputs": [
    {
     "name": "stdout",
     "output_type": "stream",
     "text": [
      "Top 5 cars by model year (descending): ['chevy s-10' 'ford ranger' 'dodge rampage' 'vw pickup' 'ford mustang gl']\n"
     ]
    }
   ],
   "source": [
    "# 8. Sorting\n",
    "# Use NumPy to sort the cars by model_year in descending order and display the first\n",
    "# five car names.\n",
    "\n",
    "\n",
    "\n",
    "df = pd.read_csv(\"auto-mpg.csv\")\n",
    "\n",
    "years = df['model year'].to_numpy()\n",
    "car_names = df['car name'].to_numpy()\n",
    "\n",
    "sorted_indices = np.argsort(-years)\n",
    "\n",
    "top_5_cars = car_names[sorted_indices[:5]]\n",
    "\n",
    "print(\"Top 5 cars by model year (descending):\", top_5_cars)\n"
   ]
  },
  {
   "cell_type": "code",
   "execution_count": 47,
   "id": "76c78188",
   "metadata": {},
   "outputs": [
    {
     "name": "stdout",
     "output_type": "stream",
     "text": [
      "Pearson correlation between mpg and weight: -0.8317409332443354\n"
     ]
    }
   ],
   "source": [
    "# 9. Correlation\n",
    "# Compute the Pearson correlation coefficient between mpg and weight using\n",
    "# NumPy.    now this question\n",
    "\n",
    "\n",
    "df = pd.read_csv(\"auto-mpg.csv\")\n",
    "\n",
    "mpg = df['mpg'].to_numpy()\n",
    "weight = df['weight'].to_numpy()\n",
    "\n",
    "correlation_matrix = np.corrcoef(mpg, weight)\n",
    "pearson_corr = correlation_matrix[0, 1]\n",
    "\n",
    "print(\"Pearson correlation between mpg and weight:\", pearson_corr)\n"
   ]
  },
  {
   "cell_type": "code",
   "execution_count": 50,
   "id": "fd92b409",
   "metadata": {},
   "outputs": [
    {
     "name": "stdout",
     "output_type": "stream",
     "text": [
      "Cylinder: 3 -> Average MPG: 20.55\n",
      "Cylinder: 4 -> Average MPG: 29.29\n",
      "Cylinder: 5 -> Average MPG: 27.37\n",
      "Cylinder: 6 -> Average MPG: 19.99\n",
      "Cylinder: 8 -> Average MPG: 14.96\n"
     ]
    }
   ],
   "source": [
    "# 10.Conditional Aggregates\n",
    "# Calculate the mean mpg for cars grouped by the number of cylinders using NumPy\n",
    "# techniques\n",
    "\n",
    "data = pd.read_csv(\"auto-mpg.csv\")\n",
    "\n",
    "mpg_values = data['mpg'].values\n",
    "cylinder_counts = data['cylinders'].values\n",
    "\n",
    "cylinder_types = np.unique(cylinder_counts)\n",
    "\n",
    "\n",
    "for c in cylinder_types:\n",
    "    matching_mpg = mpg_values[cylinder_counts == c]\n",
    "    avg = np.mean(matching_mpg)\n",
    "    print(f\"Cylinder: {c} -> Average MPG: {avg:.2f}\")\n",
    "\n"
   ]
  },
  {
   "cell_type": "code",
   "execution_count": null,
   "id": "1d01add4",
   "metadata": {},
   "outputs": [],
   "source": [
    "# 1. Basic Exploration\n",
    "# Load the dataset into a Pandas DataFrame. Display:\n",
    "# ○ The first 10 rows\n",
    "# ○ The total number of rows and columns\n",
    "# ○ Summary statistics for numerical columns\n",
    "\n",
    "\n"
   ]
  },
  {
   "cell_type": "code",
   "execution_count": null,
   "id": "9789aac4",
   "metadata": {},
   "outputs": [],
   "source": []
  },
  {
   "cell_type": "code",
   "execution_count": null,
   "id": "2cbc05f9",
   "metadata": {},
   "outputs": [],
   "source": []
  },
  {
   "cell_type": "code",
   "execution_count": null,
   "id": "39b526d8",
   "metadata": {},
   "outputs": [],
   "source": []
  }
 ],
 "metadata": {
  "kernelspec": {
   "display_name": "Python 3",
   "language": "python",
   "name": "python3"
  },
  "language_info": {
   "codemirror_mode": {
    "name": "ipython",
    "version": 3
   },
   "file_extension": ".py",
   "mimetype": "text/x-python",
   "name": "python",
   "nbconvert_exporter": "python",
   "pygments_lexer": "ipython3",
   "version": "3.11.9"
  }
 },
 "nbformat": 4,
 "nbformat_minor": 5
}
